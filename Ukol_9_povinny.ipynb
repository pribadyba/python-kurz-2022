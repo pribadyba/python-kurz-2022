{
 "cells": [
  {
   "cell_type": "code",
   "execution_count": 8,
   "metadata": {},
   "outputs": [],
   "source": [
    "import pandas"
   ]
  },
  {
   "cell_type": "code",
   "execution_count": 10,
   "metadata": {},
   "outputs": [
    {
     "name": "stdout",
     "output_type": "stream",
     "text": [
      "<class 'pandas.core.frame.DataFrame'>\n",
      "RangeIndex: 8790 entries, 0 to 8789\n",
      "Data columns (total 5 columns):\n",
      " #   Column          Non-Null Count  Dtype  \n",
      "---  ------          --------------  -----  \n",
      " 0   Region          8790 non-null   object \n",
      " 1   Country         8790 non-null   object \n",
      " 2   City            8790 non-null   object \n",
      " 3   Day             8790 non-null   int64  \n",
      " 4   AvgTemperature  8790 non-null   float64\n",
      "dtypes: float64(1), int64(1), object(3)\n",
      "memory usage: 343.5+ KB\n"
     ]
    }
   ],
   "source": [
    "teploty = pandas.read_csv('temperature.csv')\n",
    "teploty.info()"
   ]
  },
  {
   "cell_type": "code",
   "execution_count": 11,
   "metadata": {},
   "outputs": [
    {
     "name": "stdout",
     "output_type": "stream",
     "text": [
      "             Region  Country      City  Day  AvgTemperature\n",
      "0            Africa  Algeria   Algiers    1            62.0\n",
      "1            Africa  Algeria   Algiers    2            62.2\n",
      "2            Africa  Algeria   Algiers    3            65.7\n",
      "3            Africa  Algeria   Algiers    4            69.8\n",
      "4            Africa  Algeria   Algiers    5            63.8\n",
      "...             ...      ...       ...  ...             ...\n",
      "8785  North America       US  Cheyenne   26            51.7\n",
      "8786  North America       US  Cheyenne   27            55.5\n",
      "8787  North America       US  Cheyenne   28            38.5\n",
      "8788  North America       US  Cheyenne   29            36.8\n",
      "8789  North America       US  Cheyenne   30            36.9\n",
      "\n",
      "[8790 rows x 5 columns]\n"
     ]
    }
   ],
   "source": [
    "print(teploty)"
   ]
  },
  {
   "attachments": {},
   "cell_type": "markdown",
   "metadata": {},
   "source": [
    "Dotaz na měření, která byla provedena v Praze. Je na datech něco zvláštního? Napadá tě, čím to může být? \n",
    "Je to ve Fahrenheitech.\n"
   ]
  },
  {
   "cell_type": "code",
   "execution_count": 15,
   "metadata": {},
   "outputs": [
    {
     "name": "stdout",
     "output_type": "stream",
     "text": [
      "      Region         Country    City  Day  AvgTemperature\n",
      "2100  Europe  Czech Republic  Prague    1            43.5\n",
      "2101  Europe  Czech Republic  Prague    2            48.5\n",
      "2102  Europe  Czech Republic  Prague    3            44.4\n",
      "2103  Europe  Czech Republic  Prague    4            39.7\n",
      "2104  Europe  Czech Republic  Prague    5            40.6\n",
      "2105  Europe  Czech Republic  Prague    6            42.3\n",
      "2106  Europe  Czech Republic  Prague    7            43.5\n",
      "2107  Europe  Czech Republic  Prague    8            41.4\n",
      "2108  Europe  Czech Republic  Prague    9            43.8\n",
      "2109  Europe  Czech Republic  Prague   10            43.0\n",
      "2110  Europe  Czech Republic  Prague   11            39.5\n",
      "2111  Europe  Czech Republic  Prague   12            36.7\n",
      "2112  Europe  Czech Republic  Prague   13            35.8\n",
      "2113  Europe  Czech Republic  Prague   14            35.5\n",
      "2114  Europe  Czech Republic  Prague   15            39.1\n",
      "2115  Europe  Czech Republic  Prague   16            38.5\n",
      "2116  Europe  Czech Republic  Prague   17            36.6\n",
      "2117  Europe  Czech Republic  Prague   18            37.0\n",
      "2118  Europe  Czech Republic  Prague   19            37.5\n",
      "2119  Europe  Czech Republic  Prague   20            37.0\n",
      "2120  Europe  Czech Republic  Prague   21            41.3\n",
      "2121  Europe  Czech Republic  Prague   22            44.6\n",
      "2122  Europe  Czech Republic  Prague   23            41.8\n",
      "2123  Europe  Czech Republic  Prague   24            46.2\n",
      "2124  Europe  Czech Republic  Prague   25            43.3\n",
      "2125  Europe  Czech Republic  Prague   26            34.6\n",
      "2126  Europe  Czech Republic  Prague   27            36.1\n",
      "2127  Europe  Czech Republic  Prague   28            39.3\n",
      "2128  Europe  Czech Republic  Prague   29            36.9\n",
      "2129  Europe  Czech Republic  Prague   30            33.7\n"
     ]
    }
   ],
   "source": [
    "praha = teploty[teploty[\"City\"]==\"Prague\"]\n",
    "print(praha)"
   ]
  },
  {
   "attachments": {},
   "cell_type": "markdown",
   "metadata": {},
   "source": [
    "Dotaz na měření, ve kterých je teplota (sloupec AvgTemperature) vyšší než 80 stupňů.\n"
   ]
  },
  {
   "cell_type": "code",
   "execution_count": null,
   "metadata": {},
   "outputs": [
    {
     "name": "stdout",
     "output_type": "stream",
     "text": [
      "      Region         Country    City  Day  AvgTemperature\n",
      "2100  Europe  Czech Republic  Prague    1            43.5\n",
      "2101  Europe  Czech Republic  Prague    2            48.5\n",
      "2102  Europe  Czech Republic  Prague    3            44.4\n",
      "2103  Europe  Czech Republic  Prague    4            39.7\n",
      "2104  Europe  Czech Republic  Prague    5            40.6\n",
      "2105  Europe  Czech Republic  Prague    6            42.3\n",
      "2106  Europe  Czech Republic  Prague    7            43.5\n",
      "2107  Europe  Czech Republic  Prague    8            41.4\n",
      "2108  Europe  Czech Republic  Prague    9            43.8\n",
      "2109  Europe  Czech Republic  Prague   10            43.0\n",
      "2110  Europe  Czech Republic  Prague   11            39.5\n",
      "2111  Europe  Czech Republic  Prague   12            36.7\n",
      "2112  Europe  Czech Republic  Prague   13            35.8\n",
      "2113  Europe  Czech Republic  Prague   14            35.5\n",
      "2114  Europe  Czech Republic  Prague   15            39.1\n",
      "2115  Europe  Czech Republic  Prague   16            38.5\n",
      "2116  Europe  Czech Republic  Prague   17            36.6\n",
      "2117  Europe  Czech Republic  Prague   18            37.0\n",
      "2118  Europe  Czech Republic  Prague   19            37.5\n",
      "2119  Europe  Czech Republic  Prague   20            37.0\n",
      "2120  Europe  Czech Republic  Prague   21            41.3\n",
      "2121  Europe  Czech Republic  Prague   22            44.6\n",
      "2122  Europe  Czech Republic  Prague   23            41.8\n",
      "2123  Europe  Czech Republic  Prague   24            46.2\n",
      "2124  Europe  Czech Republic  Prague   25            43.3\n",
      "2125  Europe  Czech Republic  Prague   26            34.6\n",
      "2126  Europe  Czech Republic  Prague   27            36.1\n",
      "2127  Europe  Czech Republic  Prague   28            39.3\n",
      "2128  Europe  Czech Republic  Prague   29            36.9\n",
      "2129  Europe  Czech Republic  Prague   30            33.7\n"
     ]
    }
   ],
   "source": [
    "praha = teploty[teploty[\"City\"]==\"Prague\"]\n",
    "print(praha)"
   ]
  },
  {
   "cell_type": "code",
   "execution_count": 28,
   "metadata": {},
   "outputs": [
    {
     "name": "stdout",
     "output_type": "stream",
     "text": [
      "                 City  AvgTemperature\n",
      "30            Cotonou            81.7\n",
      "31            Cotonou            81.8\n",
      "32            Cotonou            83.6\n",
      "33            Cotonou            83.4\n",
      "34            Cotonou            80.3\n",
      "...               ...             ...\n",
      "8011      Brownsville            80.8\n",
      "8012      Brownsville            81.1\n",
      "8015      Brownsville            80.5\n",
      "8042   Corpus Christi            80.2\n",
      "8074  Dallas Ft Worth            80.1\n",
      "\n",
      "[722 rows x 2 columns]\n"
     ]
    }
   ],
   "source": [
    "nad_80 = teploty[(teploty[\"AvgTemperature\"] > 80)]\n",
    "print(nad_80[[\"City\", \"AvgTemperature\"]])"
   ]
  },
  {
   "attachments": {},
   "cell_type": "markdown",
   "metadata": {},
   "source": [
    "Dotaz na měření, ve kterých je teplota vyšší než 60 stupňů a současně bylo měření provedeno v regionu (sloupec Region) Evropa (Europe)."
   ]
  },
  {
   "cell_type": "code",
   "execution_count": 31,
   "metadata": {},
   "outputs": [
    {
     "name": "stdout",
     "output_type": "stream",
     "text": [
      "      Region       City  AvgTemperature\n",
      "1932  Europe     Tirana            60.3\n",
      "2402  Europe       Rome            62.2\n",
      "2404  Europe       Rome            60.4\n",
      "2580  Europe     Lisbon            62.5\n",
      "2581  Europe     Lisbon            63.2\n",
      "2582  Europe     Lisbon            61.1\n",
      "2583  Europe     Lisbon            61.6\n",
      "2602  Europe     Lisbon            64.2\n",
      "2603  Europe     Lisbon            62.6\n",
      "2701  Europe  Barcelona            63.8\n",
      "2702  Europe  Barcelona            63.1\n",
      "2703  Europe  Barcelona            63.5\n",
      "2704  Europe  Barcelona            61.6\n",
      "2730  Europe     Bilbao            62.9\n",
      "2731  Europe     Bilbao            66.3\n",
      "2732  Europe     Bilbao            63.8\n",
      "2751  Europe     Bilbao            62.7\n",
      "2752  Europe     Bilbao            69.5\n",
      "2753  Europe     Bilbao            62.5\n"
     ]
    }
   ],
   "source": [
    "Evropa_nad_60 = teploty[(teploty[\"AvgTemperature\"] > 60) & (teploty[\"Region\"] == \"Europe\")]\n",
    "print(Evropa_nad_60[[\"Region\", \"City\", \"AvgTemperature\"]])"
   ]
  },
  {
   "attachments": {},
   "cell_type": "markdown",
   "metadata": {},
   "source": [
    "Dotaz na extrémní hodnoty, tj. měření, ve kterých je teplota vyšší než 80 stupňů nebo menší než -20 stupňů.\n"
   ]
  },
  {
   "cell_type": "code",
   "execution_count": 33,
   "metadata": {},
   "outputs": [
    {
     "name": "stdout",
     "output_type": "stream",
     "text": [
      "             Region             City  AvgTemperature\n",
      "30           Africa          Cotonou            81.7\n",
      "31           Africa          Cotonou            81.8\n",
      "32           Africa          Cotonou            83.6\n",
      "33           Africa          Cotonou            83.4\n",
      "34           Africa          Cotonou            80.3\n",
      "...             ...              ...             ...\n",
      "8011  North America      Brownsville            80.8\n",
      "8012  North America      Brownsville            81.1\n",
      "8015  North America      Brownsville            80.5\n",
      "8042  North America   Corpus Christi            80.2\n",
      "8074  North America  Dallas Ft Worth            80.1\n",
      "\n",
      "[772 rows x 3 columns]\n"
     ]
    }
   ],
   "source": [
    "extremy = teploty[(teploty[\"AvgTemperature\"] > 80) | (teploty[\"AvgTemperature\"] < -20)]\n",
    "print(extremy[[\"Region\", \"City\", \"AvgTemperature\"]])"
   ]
  }
 ],
 "metadata": {
  "kernelspec": {
   "display_name": "Python 3",
   "language": "python",
   "name": "python3"
  },
  "language_info": {
   "codemirror_mode": {
    "name": "ipython",
    "version": 3
   },
   "file_extension": ".py",
   "mimetype": "text/x-python",
   "name": "python",
   "nbconvert_exporter": "python",
   "pygments_lexer": "ipython3",
   "version": "3.9.10"
  },
  "orig_nbformat": 4
 },
 "nbformat": 4,
 "nbformat_minor": 2
}
